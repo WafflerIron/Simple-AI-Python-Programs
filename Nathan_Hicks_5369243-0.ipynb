{
 "cells": [
  {
   "cell_type": "markdown",
   "id": "e24493a4",
   "metadata": {},
   "source": [
    "# **Programming Assignment: Exploring Python, NumPy, and Matplotlib**"
   ]
  },
  {
   "cell_type": "markdown",
   "id": "6c63e68a",
   "metadata": {},
   "source": [
    "**Objective:** This assignment will evaluate your proficiency in Python programming, particularly in using core data structures, NumPy for numerical computations, and Matplotlib for data visualization."
   ]
  },
  {
   "cell_type": "markdown",
   "id": "6fb892df",
   "metadata": {},
   "source": [
    "## **Grading Criteria**"
   ]
  },
  {
   "cell_type": "markdown",
   "id": "79892b77",
   "metadata": {},
   "source": [
    "Part 1: 20 points (10 for Lists and Dictionaries && 10 for String Manipulation)\n",
    "Part 2: 20 Points (10 for Array Creation and Manipulation && 10 for Linear Algebra with Numpy) \n",
    "Part 3: 10 points"
   ]
  },
  {
   "cell_type": "markdown",
   "id": "80396123",
   "metadata": {},
   "source": [
    "## **Submission Instructions**"
   ]
  },
  {
   "cell_type": "markdown",
   "id": "451ca040",
   "metadata": {},
   "source": [
    "Submit your code as a single Jupyter Notebook file (`assignment.ipynb`).\n",
    "Ensure that your notebook is well-commented and that each section is clearly labeled.\n",
    "Include any necessary explanations in markdown cells."
   ]
  },
  {
   "cell_type": "markdown",
   "id": "bf0cd21b",
   "metadata": {},
   "source": [
    "## **Part 1: Python Basics**"
   ]
  },
  {
   "cell_type": "markdown",
   "id": "6232d23a",
   "metadata": {},
   "source": [
    "### 1. **Lists and Dictionaries**"
   ]
  },
  {
   "cell_type": "markdown",
   "id": "a6e27b25",
   "metadata": {},
   "source": [
    "1. Create a list of 10 random integers between 1 and 100 and print it.\n",
    "   You can use randint library\n",
    "   import random\n",
    "   there is a function cals"
   ]
  },
  {
   "cell_type": "code",
   "execution_count": 10,
   "id": "b66255df-65f7-4580-9bfc-ed1d882e1fa5",
   "metadata": {},
   "outputs": [
    {
     "name": "stdout",
     "output_type": "stream",
     "text": [
      "[54, 41, 84, 53, 97, 22, 66, 75, 56, 46]\n"
     ]
    }
   ],
   "source": [
    "import numpy as np\n",
    "import matplotlib.pyplot as plt\n",
    "import pandas as pd\n",
    "import random as ran\n",
    "from scipy import stats as st\n",
    "\n",
    "arr0 = []\n",
    "for i in range(10):\n",
    "    arr0.append(ran.randint(1, 100))\n",
    "print(arr0)"
   ]
  },
  {
   "cell_type": "markdown",
   "id": "7c72c073-977a-4fc1-9b0b-92d5c117ef92",
   "metadata": {},
   "source": [
    "2. Write a function to find the mean, median, and mode of the above created list.\n",
    "   you can use any library numpy, scipy, statistics or panda"
   ]
  },
  {
   "cell_type": "code",
   "execution_count": 12,
   "id": "0a4f0ec3-54ea-409a-88f6-c14a68ab899c",
   "metadata": {},
   "outputs": [
    {
     "name": "stdout",
     "output_type": "stream",
     "text": [
      "59.4\n",
      "55.0\n",
      "22\n"
     ]
    }
   ],
   "source": [
    "def find_mean_med_mode(arr):\n",
    "    arr = np.array(arr0)\n",
    "    print(np.mean(arr))\n",
    "    print(np.median(arr))\n",
    "    print(st.mode(arr).mode)\n",
    "find_mean_med_mode(arr0)"
   ]
  },
  {
   "cell_type": "markdown",
   "id": "013a9d73-3fe5-4116-97b5-304b4a4aa27c",
   "metadata": {},
   "source": [
    "3. Create a dictionary from the created list where keys are the elements and values are their squares.\n",
    "   #Save it in \"squared_dict\" which is being used in following block of code."
   ]
  },
  {
   "cell_type": "code",
   "execution_count": 14,
   "id": "18f0f4ad-0de5-45f8-b15d-486a32c6ba99",
   "metadata": {},
   "outputs": [],
   "source": [
    "squared_dict = {}\n",
    "for i in arr0:\n",
    "    squared_dict[i] = i*i"
   ]
  },
  {
   "cell_type": "markdown",
   "id": "3ecbbb23-b75a-4d35-a37c-3e7c6a403d5d",
   "metadata": {},
   "source": [
    "4. Implement a function to find the key with the maximum value in the dictionary."
   ]
  },
  {
   "cell_type": "code",
   "execution_count": 16,
   "id": "c1cbad0e-9b7d-4371-9e35-6a9f9438c6a8",
   "metadata": {},
   "outputs": [
    {
     "name": "stdout",
     "output_type": "stream",
     "text": [
      "97\n"
     ]
    }
   ],
   "source": [
    "def find_max_value_key(squared_dict):\n",
    "    # Find the key with the maximum value in the dictionary\n",
    "    # write you code here\n",
    "    val = 0\n",
    "    max_key = 0\n",
    "    for key, value in squared_dict.items():\n",
    "        if value > val:\n",
    "            val = value\n",
    "            max_key = key\n",
    "    \n",
    "    return max_key\n",
    "max_key = find_max_value_key(squared_dict)\n",
    "print(max_key)"
   ]
  },
  {
   "cell_type": "markdown",
   "id": "7a3253fe",
   "metadata": {},
   "source": [
    "### 2. **String Manipulation**"
   ]
  },
  {
   "cell_type": "markdown",
   "id": "836e049e",
   "metadata": {},
   "source": [
    "1. Write a function to reverse a string and check if it is a palindrome.\n",
    "   write you name in example_string_2"
   ]
  },
  {
   "cell_type": "code",
   "execution_count": 19,
   "id": "3afdddb1-7a8f-459a-b6ee-d97630b80237",
   "metadata": {},
   "outputs": [
    {
     "name": "stdout",
     "output_type": "stream",
     "text": [
      "True\n",
      "False\n"
     ]
    }
   ],
   "source": [
    "example_string_1 = \"madam\"\n",
    "example_string_2 = \"nathan\" # write your name in the string\n",
    "#write your code here\n",
    "def isPalindrome(string):\n",
    "    toLower = string.lower()\n",
    "    rev = toLower[::-1]\n",
    "    if rev == toLower:\n",
    "        return True\n",
    "    return False\n",
    "\n",
    "print(isPalindrome(example_string_1))\n",
    "print(isPalindrome(example_string_2))"
   ]
  },
  {
   "cell_type": "markdown",
   "id": "022c0abc-6071-4cbf-93d1-f28c9f6f348d",
   "metadata": {},
   "source": [
    "2. Create a function that counts the number of vowels in a given string.\n",
    "   check with above given strings, example_string_1 and example_string_2 and print the output"
   ]
  },
  {
   "cell_type": "code",
   "execution_count": 21,
   "id": "3a9a47eb-29b9-4ab8-91bb-91492876cf25",
   "metadata": {},
   "outputs": [
    {
     "name": "stdout",
     "output_type": "stream",
     "text": [
      "2\n",
      "2\n"
     ]
    }
   ],
   "source": [
    "def vowel_count(string):\n",
    "    toLower = string.lower()\n",
    "    vowels = {'a', 'e', 'i', 'o', 'u'}\n",
    "    count = 0\n",
    "    for l in toLower:\n",
    "        if l in vowels:\n",
    "            count += 1\n",
    "    return count\n",
    "\n",
    "print(vowel_count(example_string_1))\n",
    "print(vowel_count(example_string_2))"
   ]
  },
  {
   "cell_type": "markdown",
   "id": "48eb5e02",
   "metadata": {},
   "source": [
    "## **Part 2: NumPy Operations**"
   ]
  },
  {
   "cell_type": "markdown",
   "id": "2ffcd433",
   "metadata": {},
   "source": [
    "### 1. **Array Creation and Manipulation**"
   ]
  },
  {
   "cell_type": "markdown",
   "id": "b91b49f5",
   "metadata": {},
   "source": [
    "1. Create a 5x5 NumPy array with random integers between 1 and 100 and print it. "
   ]
  },
  {
   "cell_type": "code",
   "execution_count": 25,
   "id": "6e7b13d3-53a4-4ba6-b5b8-814ec2236796",
   "metadata": {},
   "outputs": [
    {
     "name": "stdout",
     "output_type": "stream",
     "text": [
      "[[54  7 73 57  5]\n",
      " [49 92 36 88 35]\n",
      " [63  8 93  2 21]\n",
      " [25 50 28 28 82]\n",
      " [11 88 39 27  5]]\n"
     ]
    }
   ],
   "source": [
    "fiveArr = np.random.randint(1, 101, size=(5, 5))\n",
    "print(fiveArr)"
   ]
  },
  {
   "cell_type": "markdown",
   "id": "f4769933-bad1-4546-b4c3-214647dd4400",
   "metadata": {},
   "source": [
    "2. Replace all even numbers in the array with -1 and than print the output"
   ]
  },
  {
   "cell_type": "code",
   "execution_count": 27,
   "id": "3d82b59f-1762-4eff-896b-77905a5e3340",
   "metadata": {},
   "outputs": [
    {
     "name": "stdout",
     "output_type": "stream",
     "text": [
      "[[-1  7 73 57  5]\n",
      " [49 -1 -1 -1 35]\n",
      " [63 -1 93 -1 21]\n",
      " [25 -1 -1 -1 -1]\n",
      " [11 -1 39 27  5]]\n"
     ]
    }
   ],
   "source": [
    "fiveArr[fiveArr % 2 == 0] = -1\n",
    "print(fiveArr)"
   ]
  },
  {
   "cell_type": "markdown",
   "id": "b4a36da5-35ed-4705-a028-79892187c250",
   "metadata": {},
   "source": [
    "3. Calculate the mean and standard deviation of the array elements and than print the output\n",
    "   use numpy library"
   ]
  },
  {
   "cell_type": "code",
   "execution_count": 29,
   "id": "8b8e84c2-5a6d-45a9-b683-29f638ff2cb4",
   "metadata": {},
   "outputs": [
    {
     "name": "stdout",
     "output_type": "stream",
     "text": [
      "19.96\n",
      "27.135924528196934\n"
     ]
    }
   ],
   "source": [
    "print(np.mean(fiveArr))\n",
    "print(np.std(fiveArr))"
   ]
  },
  {
   "cell_type": "markdown",
   "id": "550d6edc-2719-4cba-b710-c14fd9e7ceb2",
   "metadata": {},
   "source": [
    "4. Reshape the array to a 1x25 array and then back to a 5x5 array and than print the output. "
   ]
  },
  {
   "cell_type": "code",
   "execution_count": 31,
   "id": "7e32d3a0-77d0-467c-9995-012d87a6075c",
   "metadata": {},
   "outputs": [
    {
     "name": "stdout",
     "output_type": "stream",
     "text": [
      "[[-1  7 73 57  5 49 -1 -1 -1 35 63 -1 93 -1 21 25 -1 -1 -1 -1 11 -1 39 27\n",
      "   5]]\n",
      "[[-1  7 73 57  5]\n",
      " [49 -1 -1 -1 35]\n",
      " [63 -1 93 -1 21]\n",
      " [25 -1 -1 -1 -1]\n",
      " [11 -1 39 27  5]]\n"
     ]
    }
   ],
   "source": [
    "fiveArr = fiveArr.reshape((1,25))\n",
    "print(fiveArr)\n",
    "fiveArr = fiveArr.reshape((5,5))\n",
    "print(fiveArr)"
   ]
  },
  {
   "cell_type": "markdown",
   "id": "6c3a8c0b",
   "metadata": {},
   "source": [
    "### 2. **Linear Algebra with NumPy**"
   ]
  },
  {
   "cell_type": "markdown",
   "id": "e820ee8f",
   "metadata": {},
   "source": [
    "1. Create two 3x3 matrices."
   ]
  },
  {
   "cell_type": "code",
   "execution_count": 34,
   "id": "acecfeb0-6e53-46aa-8552-b1a916f3e441",
   "metadata": {},
   "outputs": [
    {
     "name": "stdout",
     "output_type": "stream",
     "text": [
      "[[9 7 1]\n",
      " [2 3 7]\n",
      " [1 7 2]]\n",
      "[[4 8 1]\n",
      " [7 7 3]\n",
      " [2 6 2]]\n"
     ]
    }
   ],
   "source": [
    "mat1 = np.random.randint(1, 10, size=(3, 3))\n",
    "mat2 = np.random.randint(1, 10, size=(3, 3))\n",
    "print(mat1)\n",
    "print(mat2)"
   ]
  },
  {
   "cell_type": "markdown",
   "id": "ea1ee2c9-b97a-4db2-9605-a6732b8248ec",
   "metadata": {},
   "source": [
    "2. Perform addition of created matrices and print it."
   ]
  },
  {
   "cell_type": "code",
   "execution_count": 36,
   "id": "6be29847-c091-45f5-9c55-18ea3d5039c0",
   "metadata": {},
   "outputs": [
    {
     "name": "stdout",
     "output_type": "stream",
     "text": [
      "[[13 15  2]\n",
      " [ 9 10 10]\n",
      " [ 3 13  4]]\n"
     ]
    }
   ],
   "source": [
    "print(mat1 + mat2)"
   ]
  },
  {
   "cell_type": "markdown",
   "id": "55e389c6-2908-4f87-bc98-1db4b9c42e4f",
   "metadata": {},
   "source": [
    "3. Perform subtraction of created matrices and print the output"
   ]
  },
  {
   "cell_type": "code",
   "execution_count": 38,
   "id": "be6c710c-9f36-4e8d-80e2-3216c268e3f1",
   "metadata": {},
   "outputs": [
    {
     "name": "stdout",
     "output_type": "stream",
     "text": [
      "[[ 5 -1  0]\n",
      " [-5 -4  4]\n",
      " [-1  1  0]]\n"
     ]
    }
   ],
   "source": [
    "print(mat1 - mat2)"
   ]
  },
  {
   "cell_type": "markdown",
   "id": "7897e5c5-331a-43cc-a788-d819b6c93e28",
   "metadata": {},
   "source": [
    "4. Perform multiplication of created matrices and print the output. "
   ]
  },
  {
   "cell_type": "code",
   "execution_count": 40,
   "id": "66a35d11-a673-40eb-bef9-42155fa99a4c",
   "metadata": {},
   "outputs": [
    {
     "name": "stdout",
     "output_type": "stream",
     "text": [
      "[[ 87 127  32]\n",
      " [ 43  79  25]\n",
      " [ 57  69  26]]\n"
     ]
    }
   ],
   "source": [
    "print(np.dot(mat1, mat2))"
   ]
  },
  {
   "cell_type": "markdown",
   "id": "e17ef63c-c1dc-4517-b735-033a5466ae43",
   "metadata": {},
   "source": [
    "5. Find the determinant of one of the the matrices."
   ]
  },
  {
   "cell_type": "code",
   "execution_count": 42,
   "id": "83b0c462-99e9-401d-b4f9-457f28b6540d",
   "metadata": {},
   "outputs": [
    {
     "name": "stdout",
     "output_type": "stream",
     "text": [
      "-355.00000000000006\n"
     ]
    }
   ],
   "source": [
    "print(np.linalg.det(mat1))"
   ]
  },
  {
   "cell_type": "markdown",
   "id": "6b6dbaa6-b958-441d-b70d-0804fd3aa3f5",
   "metadata": {},
   "source": [
    "6. Find the inverse of one of the matrices."
   ]
  },
  {
   "cell_type": "code",
   "execution_count": 44,
   "id": "7050cca2-6847-4e9d-974a-570c1a301e69",
   "metadata": {},
   "outputs": [
    {
     "name": "stdout",
     "output_type": "stream",
     "text": [
      "[[ 0.12112676  0.01971831 -0.12957746]\n",
      " [-0.0084507  -0.04788732  0.17183099]\n",
      " [-0.03098592  0.15774648 -0.03661972]]\n"
     ]
    }
   ],
   "source": [
    "print(np.linalg.inv(mat1))"
   ]
  },
  {
   "cell_type": "markdown",
   "id": "e8c1d3e6",
   "metadata": {},
   "source": [
    "## **Part 3: Data Visualization with Matplotlib**"
   ]
  },
  {
   "cell_type": "markdown",
   "id": "9734514d",
   "metadata": {},
   "source": [
    "### 1. **Plotting Basics**"
   ]
  },
  {
   "cell_type": "markdown",
   "id": "aeace7d3-73c0-4103-9b23-6771af906e59",
   "metadata": {},
   "source": [
    "1. Using the data from the sine and cosine waves, create a subplot that shows both plots individually.\n",
    "   Hint_1: you can use np.linspace to generate hundred points from 0 to 2π\n",
    "   Hint_2: use these values of linspace to create sin and cosie values using np.sin() and np.cos()\n",
    "   Hint_3: Use matplotlib library for and make subplots."
   ]
  },
  {
   "cell_type": "code",
   "execution_count": 48,
   "id": "895c04e8-8e5c-4cf2-9761-9ac1f9f76195",
   "metadata": {},
   "outputs": [
    {
     "data": {
      "text/plain": [
       "[<matplotlib.lines.Line2D at 0x13ee96c90>]"
      ]
     },
     "execution_count": 48,
     "metadata": {},
     "output_type": "execute_result"
    },
    {
     "data": {
      "image/png": "[encoded data removed]",
      "text/plain": [
       "<Figure size 640x480 with 2 Axes>"
      ]
     },
     "metadata": {},
     "output_type": "display_data"
    }
   ],
   "source": [
    "x = np.linspace(0, 2 * np.pi, 100)\n",
    "plt.subplot(1, 2, 1)\n",
    "plt.plot(x, np.sin(x))\n",
    "\n",
    "plt.subplot(1, 2, 2)\n",
    "plt.plot(x, np.cos(x))"
   ]
  },
  {
   "cell_type": "markdown",
   "id": "8e7004c8",
   "metadata": {},
   "source": [
    "2. Plot a scatter plot of 100 random points with varying sizes and colors. Include gridlines and labels for the axes. Use numpy and Matplotlib library."
   ]
  },
  {
   "cell_type": "code",
   "execution_count": 50,
   "id": "88e769e8-45df-42f7-b624-6024d9e3a21c",
   "metadata": {},
   "outputs": [
    {
     "data": {
      "image/png": "[encoded data removed]",
      "text/plain": [
       "<Figure size 640x480 with 1 Axes>"
      ]
     },
     "metadata": {},
     "output_type": "display_data"
    }
   ],
   "source": [
    "x = np.random.randint(1, 100, size=(1, 100))\n",
    "y = np.random.randint(1, 100, size=(1, 100))\n",
    "\n",
    "colors = np.random.rand(100)\n",
    "plt.scatter(x, y, c = y, s = x)\n",
    "plt.title('Scatter Plot Example')\n",
    "plt.xlabel('X-axis')\n",
    "plt.ylabel('Y-axis')\n",
    "plt.grid(True)\n",
    "plt.show()\n"
   ]
  },
  {
   "cell_type": "code",
   "execution_count": null,
   "id": "7aa8a118-a2a6-4c25-8bae-7f685904061d",
   "metadata": {},
   "outputs": [],
   "source": []
  },
  {
   "cell_type": "code",
   "execution_count": null,
   "id": "6a3fb67d-a6b1-4697-838b-d3cbc48b9b0f",
   "metadata": {},
   "outputs": [],
   "source": []
  }
 ],
 "metadata": {
  "kernelspec": {
   "display_name": "Python [conda env:base] *",
   "language": "python",
   "name": "conda-base-py"
  },
  "language_info": {
   "codemirror_mode": {
    "name": "ipython",
    "version": 3
   },
   "file_extension": ".py",
   "mimetype": "text/x-python",
   "name": "python",
   "nbconvert_exporter": "python",
   "pygments_lexer": "ipython3",
   "version": "3.12.7"
  }
 },
 "nbformat": 4,
 "nbformat_minor": 5
}
